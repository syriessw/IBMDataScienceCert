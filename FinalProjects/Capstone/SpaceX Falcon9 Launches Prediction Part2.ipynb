{
 "cells": [
  {
   "cell_type": "markdown",
   "id": "fec4e669",
   "metadata": {},
   "source": [
    "# Web Scraping of Falcon 9 and Falcon Heavy Launches Records from Wikipedia"
   ]
  },
  {
   "cell_type": "markdown",
   "id": "54697f78",
   "metadata": {},
   "source": [
    "We will now web scrape Falcon 9 historical launch records from the Wikipedia page titled `List of Falcon 9 and Falcon Heavy Launches`.\n",
    "\n",
    "The objective is to use `BeautifulSoup`:\n",
    "- To extract Falcon 9 launch records HTML table from Wikipedia\n",
    "- Parse the table and convert it into a Pandas dataframe"
   ]
  },
  {
   "cell_type": "code",
   "execution_count": 1,
   "id": "bacfd389",
   "metadata": {},
   "outputs": [
    {
     "name": "stdout",
     "output_type": "stream",
     "text": [
      "Requirement already satisfied: beautifulsoup4 in h:\\anaconda\\lib\\site-packages (4.12.3)\n",
      "Requirement already satisfied: soupsieve>1.2 in h:\\anaconda\\lib\\site-packages (from beautifulsoup4) (2.5)\n"
     ]
    }
   ],
   "source": [
    "!pip3 install beautifulsoup4"
   ]
  },
  {
   "cell_type": "code",
   "execution_count": 2,
   "id": "b1c2b1cb",
   "metadata": {},
   "outputs": [],
   "source": [
    "import sys\n",
    "\n",
    "from bs4 import BeautifulSoup\n",
    "import re\n",
    "import unicodedata\n",
    "import pandas as pd\n",
    "import requests\n",
    "import numpy"
   ]
  },
  {
   "cell_type": "markdown",
   "id": "807d36da",
   "metadata": {},
   "source": [
    "Some helper functions to process web scraped HTML table"
   ]
  },
  {
   "cell_type": "code",
   "execution_count": 3,
   "id": "374c500d",
   "metadata": {},
   "outputs": [],
   "source": [
    "def date_time(table_cells):\n",
    "    \"\"\"\n",
    "    This function returns the data and time from the HTML table cell\n",
    "    Input: the element of a table data cell extract extra row\n",
    "    \"\"\"\n",
    "    return [data_time.strip() for data_time in list(table_cells.strings)[0:2]]\n",
    "\n",
    "def booster_version(table_cells):\n",
    "    \"\"\"\n",
    "    This function returns the booster version from the HTML table cell.\n",
    "    Input:the element of a table data cell extracts extra row\n",
    "    \"\"\"\n",
    "    out = ''.join([booster_version for i, booster_version in enumerate(table_cells.strings) if i%2==0][0:-1])\n",
    "    return out\n",
    "\n",
    "def landing_status(table_cells):\n",
    "    \"\"\"\n",
    "    This function returns the landing status from the HTML table cell.\n",
    "    Input: the element of a table data cell extracts extra row'\n",
    "    \"\"\"\n",
    "    out = [i for i in table_cells.strings][0]\n",
    "    return out\n",
    "\n",
    "def get_mass(table_cells):\n",
    "    mass = unicodedata.normalize(\"NFKD\", table_cells.text).strip()\n",
    "    if mass:\n",
    "        mass.find(\"kg\")\n",
    "        new_mass = mass[0:mass.find(\"kg\")+2]\n",
    "    else:\n",
    "        new_mass = 0\n",
    "    return new_mass\n",
    "\n",
    "def extract_column_from_header(row):\n",
    "    \"\"\"\n",
    "    This function processes column name from the header row by stripping \"\"\"\n",
    "    if row.br:\n",
    "        row.br.extract()\n",
    "    if row.a:\n",
    "        row.a.extract()\n",
    "    if row.sup:\n",
    "        row.sup.extract()\n",
    "        \n",
    "    column_name = ' '.join(row.contents)\n",
    "    \n",
    "    #Filter the digit and empty names\n",
    "    if not(column_name.strip().isdigit()):\n",
    "        column_name = column_name.strip()\n",
    "        return column_name"
   ]
  },
  {
   "cell_type": "markdown",
   "id": "2aa23400",
   "metadata": {},
   "source": [
    "To keep the lab tasks consistent, the data will be scraped from a snapshot of the `List of Falcon 9 and Falcon Heavy Launches` Wikipedia page updated on `9th June 2021`."
   ]
  },
  {
   "cell_type": "code",
   "execution_count": 4,
   "id": "73f98c13",
   "metadata": {},
   "outputs": [],
   "source": [
    "static_url = \"https://en.wikipedia.org/w/index.php?title=List_of_Falcon_9_and_Falcon_Heavy_launches&oldid=1027686922\""
   ]
  },
  {
   "cell_type": "markdown",
   "id": "d048c73f",
   "metadata": {},
   "source": [
    "## Request the Falcon 9 launch Wiki page from url"
   ]
  },
  {
   "cell_type": "code",
   "execution_count": 5,
   "id": "6bf37cb1",
   "metadata": {},
   "outputs": [],
   "source": [
    "response = requests.get(static_url)"
   ]
  },
  {
   "cell_type": "code",
   "execution_count": 6,
   "id": "563972d5",
   "metadata": {},
   "outputs": [
    {
     "data": {
      "text/plain": [
       "<title>List of Falcon 9 and Falcon Heavy launches - Wikipedia</title>"
      ]
     },
     "execution_count": 6,
     "metadata": {},
     "output_type": "execute_result"
    }
   ],
   "source": [
    "soup = BeautifulSoup(response.text, 'html.parser')\n",
    "soup.title"
   ]
  },
  {
   "cell_type": "markdown",
   "id": "83e7abff",
   "metadata": {},
   "source": [
    "## Extract all column/variable name from HTML table header"
   ]
  },
  {
   "cell_type": "code",
   "execution_count": 7,
   "id": "48ed0602",
   "metadata": {},
   "outputs": [],
   "source": [
    "html_tables = soup.find_all('table')\n",
    "#html_tables"
   ]
  },
  {
   "cell_type": "markdown",
   "id": "655a88b6",
   "metadata": {},
   "source": [
    "Starting from the third table is our target table that contains the actual launch records."
   ]
  },
  {
   "cell_type": "code",
   "execution_count": 8,
   "id": "574807ee",
   "metadata": {},
   "outputs": [],
   "source": [
    "#Print out the third_tabel and check its content\n",
    "first_launch_table = html_tables[2]\n",
    "#print(first_launch_table)"
   ]
  },
  {
   "cell_type": "markdown",
   "id": "d5f63386",
   "metadata": {},
   "source": [
    "The column names are embedded in the table header elements `th`. We iterate through the `<th>` elements and apply the provided `extract_column_from_header()` function to extract column name one by one."
   ]
  },
  {
   "cell_type": "code",
   "execution_count": 9,
   "id": "8d7f9e6c",
   "metadata": {},
   "outputs": [],
   "source": [
    "column_names = []\n",
    "all_cols = first_launch_table.find_all('th')\n",
    "for header in all_cols:\n",
    "    col_name = extract_column_from_header(header)\n",
    "    if col_name is not None and len(col_name) > 0:\n",
    "        column_names.append(col_name)"
   ]
  },
  {
   "cell_type": "code",
   "execution_count": 10,
   "id": "865dbbb6",
   "metadata": {},
   "outputs": [
    {
     "name": "stdout",
     "output_type": "stream",
     "text": [
      "['Flight No.', 'Date and time ( )', 'Launch site', 'Payload', 'Payload mass', 'Orbit', 'Customer', 'Launch outcome']\n"
     ]
    }
   ],
   "source": [
    "print(column_names)"
   ]
  },
  {
   "cell_type": "markdown",
   "id": "259c8d23",
   "metadata": {},
   "source": [
    "## Create a dataframe by parsing the launch HTML tables"
   ]
  },
  {
   "cell_type": "markdown",
   "id": "fc3a8e44",
   "metadata": {},
   "source": [
    "Create an empty dictionary with keys from the extracted column names from this extraction. Later, this dictionary will be converted into a dataframe."
   ]
  },
  {
   "cell_type": "code",
   "execution_count": 11,
   "id": "1b8a1fa4",
   "metadata": {},
   "outputs": [],
   "source": [
    "launch_dict= dict.fromkeys(column_names)\n",
    "\n",
    "# Remove an irrelvant column\n",
    "del launch_dict['Date and time ( )']\n",
    "\n",
    "# Let's initial the launch_dict with each value to be an empty list\n",
    "launch_dict['Flight No.'] = []\n",
    "launch_dict['Launch site'] = []\n",
    "launch_dict['Payload'] = []\n",
    "launch_dict['Payload mass'] = []\n",
    "launch_dict['Orbit'] = []\n",
    "launch_dict['Customer'] = []\n",
    "launch_dict['Launch outcome'] = []\n",
    "# Added some new columns\n",
    "launch_dict['Version Booster']=[]\n",
    "launch_dict['Booster landing']=[]\n",
    "launch_dict['Date']=[]\n",
    "launch_dict['Time']=[]"
   ]
  },
  {
   "cell_type": "markdown",
   "id": "1f601fd5",
   "metadata": {},
   "source": [
    "Next, we just need to fill up the `launch_dict` with launch records extracted from table rows."
   ]
  },
  {
   "cell_type": "markdown",
   "id": "8337ecb5",
   "metadata": {},
   "source": [
    "Usually, HTML tables in Wiki pages are likely to contain unexpected annotations and other types of noises, such as reference links `B0004.1[8]`, missing values `N/A [e]`, inconsistent formatting, etc."
   ]
  },
  {
   "cell_type": "markdown",
   "id": "f3ecedbd",
   "metadata": {},
   "source": [
    "To simplify the parsing process, we have provided an incomplete code snippet below to help you to fill up the `launch_dict`. Please complete the following code snippet with TODOs or you can choose to write your own logic to parse all launch tables:"
   ]
  },
  {
   "cell_type": "code",
   "execution_count": 12,
   "id": "46ba0d7a",
   "metadata": {},
   "outputs": [],
   "source": [
    "extracted_row = 0\n",
    "#Extract each table \n",
    "for table_number,table in enumerate(soup.find_all('table',\"wikitable plainrowheaders collapsible\")):\n",
    "   # get table row \n",
    "    for rows in table.find_all(\"tr\"):\n",
    "        #check to see if first table heading is as number corresponding to launch a number \n",
    "        if rows.th:\n",
    "            if rows.th.string:\n",
    "                flight_number=rows.th.string.strip()\n",
    "                flag=flight_number.isdigit()\n",
    "        else:\n",
    "            flag=False\n",
    "        #get table element \n",
    "        cells=rows.find_all('td')\n",
    "        #if it is number save cells in a dictonary \n",
    "        if flag:\n",
    "            extracted_row += 1\n",
    "            # Flight Number value\n",
    "            # TODO: Append the flight_number into launch_dict with key `Flight No.`\n",
    "            #print(flight_number)\n",
    "            launch_dict['Flight No.'].append(flight_number)\n",
    "            \n",
    "            # Date value\n",
    "            datatimelist=date_time(cells[0])\n",
    "            # TODO: Append the date into launch_dict with key `Date`\n",
    "            date = datatimelist[0].strip(',')\n",
    "            launch_dict['Date'].append(date)\n",
    "            #print(date)\n",
    "            \n",
    "            # Time value\n",
    "            # TODO: Append the time into launch_dict with key `Time`\n",
    "            time = datatimelist[1]\n",
    "            launch_dict['Time'].append(time)\n",
    "            #print(time)\n",
    "              \n",
    "            # Booster version\n",
    "            # TODO: Append the bv into launch_dict with key `Version Booster`\n",
    "            bv=booster_version(cells[1])\n",
    "            if not(bv):\n",
    "                bv=cells[1].a.string\n",
    "            #print(bv)\n",
    "            launch_dict['Version Booster'].append(bv)\n",
    "            \n",
    "            # Launch Site\n",
    "            # TODO: Append the bv into launch_dict with key `Launch Site`\n",
    "            launch_site = cells[2].a.string\n",
    "            #print(launch_site)\n",
    "            launch_dict['Launch site'].append(launch_site)\n",
    "            \n",
    "            # Payload\n",
    "            # TODO: Append the payload into launch_dict with key `Payload`\n",
    "            payload = cells[3].a.string\n",
    "            #print(payload)\n",
    "            launch_dict['Payload'].append(payload)\n",
    "            \n",
    "            # Payload Mass\n",
    "            # TODO: Append the payload_mass into launch_dict with key `Payload mass`\n",
    "            payload_mass = get_mass(cells[4])\n",
    "            #print(payload)\n",
    "            launch_dict['Payload mass'].append(payload_mass)\n",
    "            \n",
    "            # Orbit\n",
    "            # TODO: Append the orbit into launch_dict with key `Orbit`\n",
    "            orbit = cells[5].a.string\n",
    "            #print(orbit)\n",
    "            launch_dict['Orbit'].append(orbit)\n",
    "            \n",
    "            # Customer\n",
    "            # TODO: Append the customer into launch_dict with key `Customer`\n",
    "            if cells[6].a is not None:\n",
    "                customer = cells[6].a.string\n",
    "                launch_dict['Customer'].append(customer)\n",
    "            else:\n",
    "                launch_dict['Customer'].append(None)\n",
    "            #print(customer)\n",
    "            \n",
    "            # Launch outcome\n",
    "            # TODO: Append the launch_outcome into launch_dict with key `Launch outcome`\n",
    "            launch_outcome = list(cells[7].strings)[0]\n",
    "            #print(launch_outcome)\n",
    "            launch_dict['Launch outcome'].append(launch_outcome)\n",
    "            \n",
    "            # Booster landing\n",
    "            # TODO: Append the launch_outcome into launch_dict with key `Booster landing`\n",
    "            booster_landing = landing_status(cells[8])\n",
    "            #print(booster_landing)\n",
    "            launch_dict['Launch outcome'].append(launch_outcome)\n",
    "            "
   ]
  },
  {
   "cell_type": "markdown",
   "id": "db8bbe5e",
   "metadata": {},
   "source": [
    "After you have fill in the parsed launch record values into `launch_dict`, you can create a dataframe from it."
   ]
  },
  {
   "cell_type": "code",
   "execution_count": 13,
   "id": "337070b4",
   "metadata": {},
   "outputs": [],
   "source": [
    "df= pd.DataFrame({ key:pd.Series(value) for key, value in launch_dict.items() })"
   ]
  },
  {
   "cell_type": "code",
   "execution_count": 14,
   "id": "4fca7e4c",
   "metadata": {},
   "outputs": [
    {
     "data": {
      "text/plain": [
       "Customer\n",
       "NaN                       121\n",
       "NASA                       32\n",
       "SpaceX                     30\n",
       "Iridium Communications      8\n",
       "SES                         5\n",
       "USAF                        3\n",
       "Telesat                     2\n",
       "Thaicom                     2\n",
       "CONAE                       2\n",
       "NRO                         2\n",
       "Sirius XM                   2\n",
       "SKY Perfect JSAT Group      2\n",
       "None                        2\n",
       "ABS                         2\n",
       "AsiaSat                     2\n",
       "Orbcomm                     2\n",
       "Türksat                     1\n",
       "USSF                        1\n",
       "Republic of Korea Army      1\n",
       "U.S. Space Force            1\n",
       "Sky Perfect JSAT            1\n",
       "Spacecom                    1\n",
       "Canadian Space Agency       1\n",
       "PSN                         1\n",
       "Spaceflight Industries      1\n",
       "Es'hailSat                  1\n",
       "Hisdesat                    1\n",
       "Telkom Indonesia            1\n",
       "Thales-Alenia               1\n",
       "Hispasat                    1\n",
       "Northrop Grumman            1\n",
       "MDA                         1\n",
       "SES S.A.                    1\n",
       "NSPO                        1\n",
       "Intelsat                    1\n",
       "Bulsatcom                   1\n",
       "Inmarsat                    1\n",
       "EchoStar                    1\n",
       "KT Corporation              1\n",
       "Name: count, dtype: int64"
      ]
     },
     "execution_count": 14,
     "metadata": {},
     "output_type": "execute_result"
    }
   ],
   "source": [
    "df.Customer.value_counts(dropna=False)"
   ]
  },
  {
   "cell_type": "code",
   "execution_count": 15,
   "id": "88327c5d",
   "metadata": {},
   "outputs": [],
   "source": [
    "#Store it as csv\n",
    "df.to_csv('spacex_web_scraped.csv', index=False)"
   ]
  },
  {
   "cell_type": "code",
   "execution_count": null,
   "id": "fdb37e46",
   "metadata": {},
   "outputs": [],
   "source": []
  }
 ],
 "metadata": {
  "kernelspec": {
   "display_name": "Python 3 (ipykernel)",
   "language": "python",
   "name": "python3"
  },
  "language_info": {
   "codemirror_mode": {
    "name": "ipython",
    "version": 3
   },
   "file_extension": ".py",
   "mimetype": "text/x-python",
   "name": "python",
   "nbconvert_exporter": "python",
   "pygments_lexer": "ipython3",
   "version": "3.9.19"
  }
 },
 "nbformat": 4,
 "nbformat_minor": 5
}
